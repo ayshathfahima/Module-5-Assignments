{
 "cells": [
  {
   "cell_type": "code",
   "execution_count": 60,
   "id": "ead1ae94-a814-4b24-ad84-04070c9a9bbf",
   "metadata": {},
   "outputs": [],
   "source": [
    "# import pandas as pd\n",
    "# import numpy as np\n",
    "# import matplotlib.pyplot as plt\n",
    "# import seaborn as sns\n",
    "\n",
    "# # Load data\n",
    "# url = \"https://drive.google.com/uc?id=1F3lRf32JM8ejnXq-Cbf9y7fa57zSHGz_&export=download\"\n",
    "# df = pd.read_csv(url)\n",
    "# df.head()\n"
   ]
  },
  {
   "cell_type": "code",
   "execution_count": 80,
   "id": "444a3058-ceae-4394-ac35-6f3f863d41b8",
   "metadata": {},
   "outputs": [],
   "source": [
    "import pandas as pd\n",
    "import numpy as np\n",
    "import seaborn as sns\n",
    "import matplotlib.pyplot as plt\n",
    "from sklearn.preprocessing import LabelEncoder, StandardScaler, MinMaxScaler\n",
    "\n",
    "# --- Load\n",
    "file_id = '1F3lRf32JM8ejnXq-Cbf9y7fa57zSHGz_'\n",
    "download_url = f'https://drive.google.com/uc?id={file_id}'\n",
    "df = pd.read_csv(download_url)\n",
    "\n",
    "\n",
    "\n",
    "\n",
    "\n",
    "\n"
   ]
  },
  {
   "cell_type": "code",
   "execution_count": 82,
   "id": "287ac75d-584a-415e-97c3-a10542c117ba",
   "metadata": {},
   "outputs": [
    {
     "name": "stdout",
     "output_type": "stream",
     "text": [
      "   Company   Age  Salary     Place Country  Gender\n",
      "0      TCS  20.0     NaN   Chennai   India       0\n",
      "1  Infosys  30.0     NaN    Mumbai   India       0\n",
      "2      TCS  35.0  2300.0  Calcutta   India       0\n",
      "3  Infosys  40.0  3000.0     Delhi   India       0\n",
      "4      TCS  23.0  4000.0    Mumbai   India       0 \n",
      "Shape: (148, 6)\n",
      "Company: 6 unique => ['TCS' 'Infosys' 'CTS' nan 'Tata Consultancy Services' 'Congnizant'\n",
      " 'Infosys Pvt Lmt']\n",
      "Age: 29 unique => [20. 30. 35. 40. 23. nan 34. 45. 18. 22. 32. 37. 50. 21. 46. 36. 26. 41.\n",
      " 24. 25. 43. 19. 38. 51. 31. 44. 33. 17.  0. 54.]\n",
      "Salary: 40 unique => [  nan 2300. 3000. 4000. 5000. 6000. 7000. 8000. 9000. 1089. 1234. 3030.\n",
      " 3045. 3184. 4824. 5835. 7084. 8943. 8345. 9284. 9876. 2034. 7654. 2934.\n",
      " 4034. 5034. 8202. 9024. 4345. 6544. 6543. 3234. 4324. 5435. 5555. 8787.\n",
      " 3454. 5654. 5009. 5098. 3033.]\n",
      "Place: 11 unique => ['Chennai' 'Mumbai' 'Calcutta' 'Delhi' 'Podicherry' 'Cochin' nan 'Noida'\n",
      " 'Hyderabad' 'Bhopal' 'Nagpur' 'Pune']\n",
      "Country: 1 unique => ['India']\n",
      "Gender: 2 unique => [0 1]\n",
      "       Company         Age       Salary   Place Country      Gender\n",
      "count      140  130.000000   124.000000     134     148  148.000000\n",
      "unique       6         NaN          NaN      11       1         NaN\n",
      "top        TCS         NaN          NaN  Mumbai   India         NaN\n",
      "freq        53         NaN          NaN      37     148         NaN\n",
      "mean       NaN   30.484615  5312.467742     NaN     NaN    0.222973\n",
      "std        NaN   11.096640  2573.764683     NaN     NaN    0.417654\n",
      "min        NaN    0.000000  1089.000000     NaN     NaN    0.000000\n",
      "25%        NaN   22.000000  3030.000000     NaN     NaN    0.000000\n",
      "50%        NaN   32.500000  5000.000000     NaN     NaN    0.000000\n",
      "75%        NaN   37.750000  8000.000000     NaN     NaN    0.000000\n",
      "max        NaN   54.000000  9876.000000     NaN     NaN    1.000000\n"
     ]
    }
   ],
   "source": [
    "# --- 1. Exploration\n",
    "print(df.head(), \"\\nShape:\", df.shape)\n",
    "for col in df.columns:\n",
    "    print(f\"{col}: {df[col].nunique()} unique => {df[col].unique()}\")\n",
    "\n",
    "print(df.describe(include='all'))\n",
    "\n",
    "df.rename(columns={'Company':'company','Age':'age','Salary':'salary',\n",
    "                   'Place':'place','Country':'country','Gender':'gender'}, inplace=True)"
   ]
  },
  {
   "cell_type": "code",
   "execution_count": 84,
   "id": "bb26487f-c428-4aae-9d38-664fcff2fc2f",
   "metadata": {},
   "outputs": [
    {
     "name": "stdout",
     "output_type": "stream",
     "text": [
      "Missing before: company     8\n",
      "age        24\n",
      "salary     24\n",
      "place      14\n",
      "country     0\n",
      "gender      0\n",
      "dtype: int64\n",
      "Outliers in age:\n",
      " Empty DataFrame\n",
      "Columns: [company, age, salary, place, country, gender]\n",
      "Index: []\n",
      "Outliers in salary:\n",
      " Empty DataFrame\n",
      "Columns: [company, age, salary, place, country, gender]\n",
      "Index: []\n"
     ]
    },
    {
     "name": "stderr",
     "output_type": "stream",
     "text": [
      "C:\\Users\\user\\AppData\\Local\\Temp\\ipykernel_8440\\110135305.py:2: FutureWarning: A value is trying to be set on a copy of a DataFrame or Series through chained assignment using an inplace method.\n",
      "The behavior will change in pandas 3.0. This inplace method will never work because the intermediate object on which we are setting values always behaves as a copy.\n",
      "\n",
      "For example, when doing 'df[col].method(value, inplace=True)', try using 'df.method({col: value}, inplace=True)' or df[col] = df[col].method(value) instead, to perform the operation inplace on the original object.\n",
      "\n",
      "\n",
      "  df['age'].replace(0, np.nan, inplace=True)\n",
      "C:\\Users\\user\\AppData\\Local\\Temp\\ipykernel_8440\\110135305.py:7: FutureWarning: A value is trying to be set on a copy of a DataFrame or Series through chained assignment using an inplace method.\n",
      "The behavior will change in pandas 3.0. This inplace method will never work because the intermediate object on which we are setting values always behaves as a copy.\n",
      "\n",
      "For example, when doing 'df[col].method(value, inplace=True)', try using 'df.method({col: value}, inplace=True)' or df[col] = df[col].method(value) instead, to perform the operation inplace on the original object.\n",
      "\n",
      "\n",
      "  df['age'].fillna(df['age'].median(), inplace=True)\n",
      "C:\\Users\\user\\AppData\\Local\\Temp\\ipykernel_8440\\110135305.py:8: FutureWarning: A value is trying to be set on a copy of a DataFrame or Series through chained assignment using an inplace method.\n",
      "The behavior will change in pandas 3.0. This inplace method will never work because the intermediate object on which we are setting values always behaves as a copy.\n",
      "\n",
      "For example, when doing 'df[col].method(value, inplace=True)', try using 'df.method({col: value}, inplace=True)' or df[col] = df[col].method(value) instead, to perform the operation inplace on the original object.\n",
      "\n",
      "\n",
      "  df['salary'].fillna(df['salary'].mean(), inplace=True)\n",
      "C:\\Users\\user\\AppData\\Local\\Temp\\ipykernel_8440\\110135305.py:11: FutureWarning: A value is trying to be set on a copy of a DataFrame or Series through chained assignment using an inplace method.\n",
      "The behavior will change in pandas 3.0. This inplace method will never work because the intermediate object on which we are setting values always behaves as a copy.\n",
      "\n",
      "For example, when doing 'df[col].method(value, inplace=True)', try using 'df.method({col: value}, inplace=True)' or df[col] = df[col].method(value) instead, to perform the operation inplace on the original object.\n",
      "\n",
      "\n",
      "  df[cat].fillna(df[cat].mode()[0], inplace=True)\n"
     ]
    }
   ],
   "source": [
    "\n",
    "# --- 2. Cleaning\n",
    "df['age'].replace(0, np.nan, inplace=True)\n",
    "print(\"Missing before:\", df.isnull().sum())\n",
    "\n",
    "df.drop_duplicates(inplace=True)\n",
    "\n",
    "df['age'].fillna(df['age'].median(), inplace=True)\n",
    "df['salary'].fillna(df['salary'].mean(), inplace=True)\n",
    "for cat in ['place','country','gender','company']:\n",
    "    if df[cat].isnull().any():\n",
    "        df[cat].fillna(df[cat].mode()[0], inplace=True)\n",
    "\n",
    "# Detect outliers via IQR\n",
    "for num in ['age','salary']:\n",
    "    Q1, Q3 = df[num].quantile([0.25,0.75])\n",
    "    IQR = Q3 - Q1\n",
    "    lower, upper = Q1 - 1.5 * IQR, Q3 + 1.5 * IQR\n",
    "    outliers = df[(df[num] < lower) | (df[num] > upper)]\n",
    "    print(f\"Outliers in {num}:\\n\", outliers)\n"
   ]
  },
  {
   "cell_type": "code",
   "execution_count": 86,
   "id": "fa399409-2696-4264-9ec6-912cc6e1cd57",
   "metadata": {},
   "outputs": [
    {
     "name": "stdout",
     "output_type": "stream",
     "text": [
      "Filtered:\n",
      "      company   age  salary      place country  gender\n",
      "21   Infosys  50.0  3184.0      Delhi   India       0\n",
      "32   Infosys  45.0  4034.0   Calcutta   India       0\n",
      "39   Infosys  41.0  3000.0     Mumbai   India       0\n",
      "50   Infosys  41.0  3000.0    Chennai   India       0\n",
      "57   Infosys  51.0  3184.0  Hyderabad   India       0\n",
      "68   Infosys  43.0  4034.0     Mumbai   India       0\n",
      "75   Infosys  44.0  3000.0     Cochin   India       0\n",
      "86   Infosys  41.0  3000.0      Delhi   India       0\n",
      "93   Infosys  54.0  3184.0     Mumbai   India       0\n",
      "104  Infosys  44.0  4034.0      Delhi   India       0\n",
      "122  Infosys  44.0  3234.0     Mumbai   India       0\n",
      "129  Infosys  50.0  3184.0   Calcutta   India       0\n",
      "138      CTS  44.0  3033.0     Cochin   India       0\n",
      "140  Infosys  44.0  4034.0  Hyderabad   India       0\n",
      "145  Infosys  44.0  4034.0      Delhi   India       1\n"
     ]
    },
    {
     "data": {
      "image/png": "[encoded data removed]",
      "text/plain": [
       "<Figure size 600x400 with 1 Axes>"
      ]
     },
     "metadata": {},
     "output_type": "display_data"
    },
    {
     "data": {
      "image/png": "[encoded data removed]",
      "text/plain": [
       "<Figure size 600x400 with 1 Axes>"
      ]
     },
     "metadata": {},
     "output_type": "display_data"
    }
   ],
   "source": [
    "# --- 3. Analysis\n",
    "filtered = df[(df['age'] > 40) & (df['salary'] < 5000)]\n",
    "print(\"Filtered:\\n\", filtered)\n",
    "\n",
    "plt.figure(figsize=(6,4))\n",
    "sns.scatterplot(data=filtered, x='age', y='salary')\n",
    "plt.title('Age vs Salary for filtered subset')\n",
    "plt.show()\n",
    "\n",
    "counts = df['place'].value_counts()\n",
    "plt.figure(figsize=(6,4))\n",
    "sns.barplot(x=counts.index, y=counts.values)\n",
    "plt.title('Count by place')\n",
    "plt.xticks(rotation=45)\n",
    "plt.show()\n"
   ]
  },
  {
   "cell_type": "code",
   "execution_count": 88,
   "id": "050e023d-48f8-41a1-9a3d-564c5ca70ba2",
   "metadata": {},
   "outputs": [],
   "source": [
    "# --- 4. Encoding\n",
    "le = LabelEncoder()\n",
    "for col in ['company','place','country','gender']:\n",
    "    df[f'{col}_lbl'] = le.fit_transform(df[col])\n",
    "\n",
    "df_ohe = pd.get_dummies(df, columns=['company','place','country','gender'], drop_first=True)\n"
   ]
  },
  {
   "cell_type": "code",
   "execution_count": 90,
   "id": "33ccf516-84fc-475d-b85f-87462c845adf",
   "metadata": {},
   "outputs": [
    {
     "name": "stdout",
     "output_type": "stream",
     "text": [
      "Final shape: (147, 34)\n"
     ]
    }
   ],
   "source": [
    "# --- 5. Feature Scaling\n",
    "numeric = ['age','salary'] + [c for c in df_ohe.columns if c.endswith('_lbl')]\n",
    "\n",
    "std = StandardScaler().fit_transform(df_ohe[numeric])\n",
    "mm = MinMaxScaler().fit_transform(df_ohe[numeric])\n",
    "\n",
    "df_std = pd.DataFrame(std, columns=[c+'_std' for c in numeric])\n",
    "df_mm = pd.DataFrame(mm, columns=[c+'_mm' for c in numeric])\n",
    "\n",
    "df_final = pd.concat([df_ohe, df_std, df_mm], axis=1)\n",
    "print(\"Final shape:\", df_final.shape)"
   ]
  },
  {
   "cell_type": "code",
   "execution_count": null,
   "id": "38434240-7fb2-438c-b3be-8821dba7ad3c",
   "metadata": {},
   "outputs": [],
   "source": [
    "\n"
   ]
  },
  {
   "cell_type": "code",
   "execution_count": null,
   "id": "acf3c1c4-c445-42b3-b023-317a5b1dde7f",
   "metadata": {},
   "outputs": [],
   "source": [
    "\n"
   ]
  },
  {
   "cell_type": "code",
   "execution_count": null,
   "id": "f36f6105-de31-451f-926a-92a75197912e",
   "metadata": {},
   "outputs": [],
   "source": []
  },
  {
   "cell_type": "code",
   "execution_count": null,
   "id": "4ceafca2-eaf7-4dd5-9a05-f862bb842416",
   "metadata": {},
   "outputs": [],
   "source": [
    "\n"
   ]
  },
  {
   "cell_type": "code",
   "execution_count": null,
   "id": "832b1bc8-8614-4be2-adf4-f3cb17a696cd",
   "metadata": {},
   "outputs": [],
   "source": [
    "\n"
   ]
  },
  {
   "cell_type": "code",
   "execution_count": null,
   "id": "61bb6403-2db4-4de7-993e-16e278ac6d95",
   "metadata": {},
   "outputs": [],
   "source": [
    "\n",
    "\n"
   ]
  },
  {
   "cell_type": "code",
   "execution_count": null,
   "id": "0d93d47a-80b9-4aa8-bd0e-d6dc8fadb224",
   "metadata": {},
   "outputs": [],
   "source": []
  },
  {
   "cell_type": "code",
   "execution_count": null,
   "id": "e506e195-7bf8-4946-8771-d5be42771eda",
   "metadata": {},
   "outputs": [],
   "source": []
  }
 ],
 "metadata": {
  "kernelspec": {
   "display_name": "Python [conda env:base] *",
   "language": "python",
   "name": "conda-base-py"
  },
  "language_info": {
   "codemirror_mode": {
    "name": "ipython",
    "version": 3
   },
   "file_extension": ".py",
   "mimetype": "text/x-python",
   "name": "python",
   "nbconvert_exporter": "python",
   "pygments_lexer": "ipython3",
   "version": "3.12.7"
  }
 },
 "nbformat": 4,
 "nbformat_minor": 5
}
